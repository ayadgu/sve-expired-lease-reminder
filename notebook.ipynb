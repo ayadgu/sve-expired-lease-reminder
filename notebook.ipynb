{
 "cells": [
  {
   "cell_type": "code",
   "execution_count": 49,
   "metadata": {},
   "outputs": [],
   "source": [
    "import re\n",
    "import glob\n",
    "import pandas as pd\n",
    "\n",
    "pd.set_option('display.max_rows', None)\n",
    "pd.set_option('display.max_columns', None)\n",
    "pd.set_option('display.width', None)\n",
    "\n"
   ]
  },
  {
   "cell_type": "code",
   "execution_count": 156,
   "metadata": {},
   "outputs": [
    {
     "name": "stdout",
     "output_type": "stream",
     "text": [
      "Numero Mandat\n",
      "***\n",
      "   Numero Mandat Type Bail    Fin Bail\n",
      "5   00046-001-06         B  04/11/2022\n",
      "7   00051-001-03         B  31/10/2022\n",
      "12  00113-001-02         4  31/10/2007\n",
      "15  00134-002-03         0  18/10/2022\n",
      "17  00137-001-02         4  02/12/2018\n"
     ]
    }
   ],
   "source": [
    "\n",
    "filename=glob.glob(\"*baux*.xlsx\")[0]\n",
    "df_fichier_baux = pd.read_excel(filename)\n",
    "\n",
    "col_fin_bail =  'Fin Bail'\n",
    "col_type_bail =  'Type Bail'\n",
    "col_numero_bail =  'Numero Mandat'\n",
    "\n",
    "df_fichier_baux=df_fichier_baux.rename(columns={'20/05/2022.1': col_fin_bail})\n",
    "df_fichier_baux=df_fichier_baux.rename(columns={'Unnamed: 17': col_type_bail})\n",
    "df_fichier_baux=df_fichier_baux.rename(columns={'Unnamed: 0': col_numero_bail})\n",
    "\n",
    "\n",
    "for col in df_fichier_baux.columns:\n",
    "    print(col)\n",
    "    break\n",
    "print(\"***\")\n",
    "\n",
    "df_fichier_baux = df_fichier_baux[df_fichier_baux[col_fin_bail].notna()]\n",
    "\n",
    "# df_new_df=df_fichier_baux[col_fin_bail].astype(str)+df_fichier_baux[col_type_bail].astype(str)\n",
    "df_new_df=pd.concat([df_fichier_baux[col_numero_bail],df_fichier_baux[col_type_bail],df_fichier_baux[col_fin_bail]], axis=1)\n",
    "print(df_new_df.head())"
   ]
  },
  {
   "cell_type": "code",
   "execution_count": 181,
   "metadata": {},
   "outputs": [
    {
     "name": "stdout",
     "output_type": "stream",
     "text": [
      "B 2022-11-04 00:00:00 expired\n",
      "B 2022-10-31 00:00:00 expired\n",
      "4 2007-10-31 00:00:00 expired\n",
      "0 2022-10-18 00:00:00 expired\n",
      "4 2018-12-02 00:00:00 expired\n",
      "C 2022-12-14 00:00:00 expired\n",
      "0 2022-11-30 00:00:00 expired\n",
      "4 2019-12-13 00:00:00 not expired\n",
      "0 2022-12-16 00:00:00 expired\n",
      "B 2022-11-03 00:00:00 expired\n",
      "C 2022-12-13 00:00:00 expired\n",
      "4 2019-06-30 00:00:00 expired\n",
      "4 2020-12-31 00:00:00 not expired\n",
      "4 2022-04-04 00:00:00 not expired\n",
      "G 2022-08-31 00:00:00 expired\n",
      "G 2022-07-31 00:00:00 expired\n",
      "0 2022-10-01 00:00:00 expired\n",
      "B 2022-11-04 00:00:00 expired\n",
      "0 2022-12-03 00:00:00 expired\n",
      "4 2011-01-31 00:00:00 expired\n",
      "4 2011-01-31 00:00:00 expired\n",
      "4 2020-01-30 00:00:00 not expired\n",
      "4 2022-03-14 00:00:00 not expired\n",
      "4 2018-12-31 00:00:00 expired\n",
      "4 2021-05-31 00:00:00 not expired\n",
      "4 2021-05-31 00:00:00 not expired\n",
      "4 2021-05-31 00:00:00 not expired\n",
      "4 2021-05-31 00:00:00 not expired\n",
      "4 2022-06-30 00:00:00 not expired\n",
      "4 2022-07-16 00:00:00 not expired\n",
      "4 2019-10-31 00:00:00 expired\n",
      "4 2021-07-31 00:00:00 not expired\n",
      "4 2020-09-30 00:00:00 not expired\n",
      "4 2018-10-31 00:00:00 expired\n",
      "4 2018-09-30 00:00:00 expired\n",
      "4 2018-09-30 00:00:00 expired\n",
      "4 2020-07-14 00:00:00 not expired\n",
      "4 2012-06-30 00:00:00 expired\n",
      "4 2018-06-30 00:00:00 expired\n",
      "4 2021-02-19 00:00:00 not expired\n"
     ]
    }
   ],
   "source": [
    "# 0 : 8 mois avant date de fin\n",
    "# 3 : 8mois \n",
    "# 4 : à la date de fin + (date de fin + 3 ans - 6 mois)\n",
    "# B : 8 \n",
    "# C : 8\n",
    "# G : 8\n",
    "\n",
    "from datetime import datetime, timedelta, date\n",
    "\n",
    "six_months = timedelta(6*365/12)\n",
    "height_months = timedelta(8*365/12)\n",
    "three_years = timedelta(3*365)\n",
    "today_date = datetime.now()\n",
    "\n",
    "for indices, row in df_new_df.iterrows():\n",
    "    date = df_new_df.at[indices,\"Fin Bail\"]\n",
    "    date_to_time_obj = datetime.strptime(date, '%d/%m/%Y')\n",
    "    type_bail = str(df_new_df.at[indices,\"Type Bail\"])\n",
    "    match type_bail :\n",
    "        case '4':\n",
    "            if today_date == date_to_time_obj or today_date >= date_to_time_obj+three_years-six_months :\n",
    "                print(type_bail,date_to_time_obj,\"expired\")\n",
    "                pass\n",
    "            else:\n",
    "                print(type_bail,date_to_time_obj,\"not expired\")\n",
    "        case _:\n",
    "            if today_date >= date_to_time_obj-height_months:\n",
    "                print(type_bail,date_to_time_obj,\"expired\")\n",
    "                pass\n"
   ]
  },
  {
   "cell_type": "code",
   "execution_count": 158,
   "metadata": {},
   "outputs": [
    {
     "name": "stdout",
     "output_type": "stream",
     "text": [
      "['04/11/2022', '31/10/2022', '31/10/2007', '18/10/2022', '02/12/2018', '14/12/2022', '30/11/2022', '13/12/2019', '16/12/2022', '03/11/2022', '13/12/2022', '30/06/2019', '31/12/2020', '04/04/2022', '31/08/2022', '31/07/2022', '01/10/2022', '04/11/2022', '03/12/2022', '31/01/2011', '31/01/2011', '30/01/2020', '14/03/2022', '31/12/2018', '31/05/2021', '31/05/2021', '31/05/2021', '31/05/2021', '30/06/2022', '16/07/2022', '31/10/2019', '31/07/2021', '30/09/2020', '31/10/2018', '30/09/2018', '30/09/2018', '14/07/2020', '30/06/2012', '30/06/2018', '19/02/2021']\n"
     ]
    }
   ],
   "source": [
    "from datetime import datetime, timedelta, date\n",
    "\n",
    "# Numpy vectorization\n",
    "list=(df_new_df['Fin Bail'].to_numpy()).tolist()\n",
    "print(list)\n",
    "\n",
    "if 0:\n",
    "  date_time_str = '18/09/19'\n",
    "\n",
    "  date_time_obj = datetime.strptime(date_time_str, '%d/%m/%y')\n",
    "\n",
    "  previous_date = datetime.now() - timedelta(days=1)\n",
    "  current_date = datetime.now()\n",
    "  print(previous_date,current_date)\n",
    "  print(previous_date > current_date)\n",
    "\n",
    "\n",
    "  def add_has_expired(df):\n",
    "    return df.assign(alert_mail=['yes' if datetime.strptime(x, \"%d/%m/%Y\") <= current_date else 'no' for x in df['Fin Bail']])\n"
   ]
  },
  {
   "cell_type": "code",
   "execution_count": 157,
   "metadata": {},
   "outputs": [],
   "source": [
    "import smtplib, ssl\n",
    "from email.message import EmailMessage\n",
    "\n",
    "msg = EmailMessage()\n",
    "msg.set_content(\"The body of the email is here\")\n",
    "msg[\"Subject\"] = \"Rappel automatique - Baux bientôt arrivés à expiration\"\n",
    "msg[\"From\"] = \"atoualbi@sve-universite.com\"\n",
    "msg[\"To\"] = [\"atoualbi@sve-universite.com\"] \n",
    "\n",
    "PASSWORD = \"Abdelsve5\"\n",
    "SMTP = \"smtp-mail.outlook.com\"\n",
    "\n",
    "context=ssl.create_default_context()\n",
    "\n",
    "with smtplib.SMTP(SMTP, port=587) as smtp:\n",
    "    smtp.starttls(context=context)\n",
    "    smtp.login(msg[\"From\"], PASSWORD)\n",
    "    # smtp.send_message(msg)"
   ]
  }
 ],
 "metadata": {
  "interpreter": {
   "hash": "7e33a6a9285975ac0652e19308b5bc12d0487cbd1129f4b28347a4e45fe302c6"
  },
  "kernelspec": {
   "display_name": "Python 3.10.4 ('venv': venv)",
   "language": "python",
   "name": "python3"
  },
  "language_info": {
   "codemirror_mode": {
    "name": "ipython",
    "version": 3
   },
   "file_extension": ".py",
   "mimetype": "text/x-python",
   "name": "python",
   "nbconvert_exporter": "python",
   "pygments_lexer": "ipython3",
   "version": "3.10.4"
  },
  "orig_nbformat": 4
 },
 "nbformat": 4,
 "nbformat_minor": 2
}
